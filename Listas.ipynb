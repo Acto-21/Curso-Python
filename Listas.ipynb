{
  "nbformat": 4,
  "nbformat_minor": 0,
  "metadata": {
    "colab": {
      "provenance": [],
      "authorship_tag": "ABX9TyPu3h7mSy0wrMHjg5GKEG/5",
      "include_colab_link": true
    },
    "kernelspec": {
      "name": "python3",
      "display_name": "Python 3"
    },
    "language_info": {
      "name": "python"
    }
  },
  "cells": [
    {
      "cell_type": "markdown",
      "metadata": {
        "id": "view-in-github",
        "colab_type": "text"
      },
      "source": [
        "<a href=\"https://colab.research.google.com/github/Acto-21/Curso-Python/blob/main/Listas.ipynb\" target=\"_parent\"><img src=\"https://colab.research.google.com/assets/colab-badge.svg\" alt=\"Open In Colab\"/></a>"
      ]
    },
    {
      "cell_type": "code",
      "execution_count": null,
      "metadata": {
        "colab": {
          "base_uri": "https://localhost:8080/"
        },
        "id": "EVP-hjqscbe0",
        "outputId": "74a2a191-6abc-41e3-968e-d5b56979d5d4"
      },
      "outputs": [
        {
          "output_type": "stream",
          "name": "stdout",
          "text": [
            "El tamaño de la lista es: 5\n",
            "Se agrega el nombre suministrado:\n",
            "['Andrés', 'Ana', 'Juan', 'Camilo', 'Pepito', 'Marco'] \n",
            "\n"
          ]
        }
      ],
      "source": [
        "lista_nombres = [\"Andrés\", \"Ana\", \"Juan\", \"Camilo\", \"Pepito\", ]\n",
        "print(f\"El tamaño de la lista es: {len(lista_nombres)}\")\n",
        "lista_nombres.append (\"Marco\")\n",
        "print(f\"Se agrega el nombre suministrado:\")\n",
        "print(lista_nombres, \"\\n\")"
      ]
    },
    {
      "cell_type": "code",
      "source": [
        "import random\n",
        "lista_adjetivos = [ \"calientes\", \"rapidas\", \"extremas\", \"inteligentes\", \"interesante\"\n",
        "                   ,\"enloquecidas\", \"mamonas\", \"divertido\" , \"fanaticas\", \"cachonas\", \"Capitalistas\"\n",
        "                  ]\n",
        "lista_sustantivos = [\"Calculadoras \", \"Mantarayas \", \"Ornitorrincos \", \"Caricaturas \",\n",
        "                     \"Abuelas \", \"Lechuzas \", \"Gatas \", \"Marimondas \", \"Perras \"]\n",
        "c = 0\n",
        "while c <10:\n",
        "  elemento_uno = random.choice(lista_adjetivos)\n",
        "  elemento_dos = random.choice(lista_sustantivos)\n",
        "  print(elemento_dos + elemento_uno)\n",
        "  c += 1"
      ],
      "metadata": {
        "colab": {
          "base_uri": "https://localhost:8080/"
        },
        "id": "V21dNGV2ewaB",
        "outputId": "285e0b89-c935-4662-d594-58c2f361887f"
      },
      "execution_count": null,
      "outputs": [
        {
          "output_type": "stream",
          "name": "stdout",
          "text": [
            "Marimondas divertido\n",
            "Gatas divertido\n",
            "Mantarayas enloquecidas\n",
            "Gatas enloquecidas\n",
            "Abuelas extremas\n",
            "Gatas calientes\n",
            "Marimondas Capitalistas\n",
            "Caricaturas inteligentes\n",
            "Caricaturas Capitalistas\n",
            "Mantarayas interesante\n"
          ]
        }
      ]
    },
    {
      "cell_type": "code",
      "source": [
        "print ( \"abuelas cachonas\" + \" perros capitalitas\" + \" marimondas divertidas\", \" Gatos calientes\" )"
      ],
      "metadata": {
        "colab": {
          "base_uri": "https://localhost:8080/"
        },
        "id": "fK8ZW-VWfG-L",
        "outputId": "f375c6e1-4183-4c18-e884-b660de3b71ee"
      },
      "execution_count": null,
      "outputs": [
        {
          "output_type": "stream",
          "name": "stdout",
          "text": [
            "abuelas cachonas perros capitalitas marimondas divertidas  Gatos calientes\n"
          ]
        }
      ]
    }
  ]
}