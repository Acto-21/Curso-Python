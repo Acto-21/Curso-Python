{
  "nbformat": 4,
  "nbformat_minor": 0,
  "metadata": {
    "colab": {
      "provenance": [],
      "authorship_tag": "ABX9TyNah5HnCOEeIHidt98H+Rnk",
      "include_colab_link": true
    },
    "kernelspec": {
      "name": "python3",
      "display_name": "Python 3"
    },
    "language_info": {
      "name": "python"
    }
  },
  "cells": [
    {
      "cell_type": "markdown",
      "metadata": {
        "id": "view-in-github",
        "colab_type": "text"
      },
      "source": [
        "<a href=\"https://colab.research.google.com/github/Acto-21/Curso-Python/blob/main/Sucesion_Fibonacci.ipynb\" target=\"_parent\"><img src=\"https://colab.research.google.com/assets/colab-badge.svg\" alt=\"Open In Colab\"/></a>"
      ]
    },
    {
      "cell_type": "code",
      "execution_count": null,
      "metadata": {
        "id": "ksPEVJVOdSkI",
        "colab": {
          "base_uri": "https://localhost:8080/"
        },
        "outputId": "e389e074-780a-42e3-b487-893e305eb87b"
      },
      "outputs": [
        {
          "output_type": "stream",
          "name": "stdout",
          "text": [
            "Ingresa la cantidad de terminos 0\n",
            "0\n",
            "1\n"
          ]
        }
      ],
      "source": [
        "n = int(input(\"Ingresa la cantidad de terminos \"))\n",
        "c = 0\n",
        "x = 0\n",
        "y = 1\n",
        "print (x)\n",
        "print (y)\n",
        "while c < (n-2):\n",
        "  z = x + y\n",
        "  print (z)\n",
        "  x = y\n",
        "  y = z\n",
        "  c += 1\n",
        "\n"
      ]
    },
    {
      "cell_type": "code",
      "source": [
        "n = int(input(\"Ingresa la cantidad de terminos \"))\n",
        "c = 0\n",
        "x = 0\n",
        "y = 1\n",
        "print (x)\n",
        "print (y)\n",
        "while c < (n-2):\n",
        "  z = x + y\n",
        "  print (z)\n",
        "  x = y\n",
        "  y = z\n",
        "  c += 1\n"
      ],
      "metadata": {
        "colab": {
          "base_uri": "https://localhost:8080/"
        },
        "id": "WY7cpdNDgq1a",
        "outputId": "68143da1-c096-42e9-88cc-ea17dc99c4f2"
      },
      "execution_count": null,
      "outputs": [
        {
          "output_type": "stream",
          "name": "stdout",
          "text": [
            "Ingresa la cantidad de terminos 6\n",
            "1\n",
            "2\n",
            "3\n",
            "5\n"
          ]
        }
      ]
    }
  ]
}